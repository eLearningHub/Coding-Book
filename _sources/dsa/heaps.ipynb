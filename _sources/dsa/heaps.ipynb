{
 "cells": [
  {
   "cell_type": "markdown",
   "id": "7193489f",
   "metadata": {},
   "source": [
    "(heaps)=\n",
    "# Heaps\n",
    "\n",
    "## Examples"
   ]
  },
  {
   "cell_type": "code",
   "execution_count": 1,
   "id": "82878000",
   "metadata": {},
   "outputs": [
    {
     "name": "stdout",
     "output_type": "stream",
     "text": [
      "Elaine Thompson          10.71\n",
      "Tori Bowie               10.83\n",
      "Marie-Josee Ta Lou       10.86\n"
     ]
    }
   ],
   "source": [
    "import heapq\n",
    "results=\"\"\"\\\n",
    "Christania Williams      11.80\n",
    "Marie-Josee Ta Lou       10.86\n",
    "Elaine Thompson          10.71\n",
    "Tori Bowie               10.83\n",
    "Shelly-Ann Fraser-Pryce  10.86\n",
    "English Gardner          10.94\n",
    "Michelle-Lee Ahye        10.92\n",
    "Dafne Schippers          10.90\n",
    "\"\"\"\n",
    "top_3 = heapq.nsmallest(\n",
    "    3, results.splitlines(), key=lambda x: float(x.split()[-1])\n",
    ")\n",
    "print(\"\\n\".join(top_3))"
   ]
  },
  {
   "cell_type": "markdown",
   "id": "94b91f3f",
   "metadata": {},
   "source": [
    "## References\n",
    "\n",
    "- [The Python heapq Module: Using Heaps and Priority Queues](https://realpython.com/python-heapq-module)"
   ]
  }
 ],
 "metadata": {
  "jupytext": {
   "text_representation": {
    "extension": ".md",
    "format_name": "myst",
    "format_version": 0.13,
    "jupytext_version": "1.14.1"
   }
  },
  "kernelspec": {
   "display_name": "Python 3.10",
   "language": "python",
   "name": "python3"
  },
  "language_info": {
   "codemirror_mode": {
    "name": "ipython",
    "version": 3
   },
   "file_extension": ".py",
   "mimetype": "text/x-python",
   "name": "python",
   "nbconvert_exporter": "python",
   "pygments_lexer": "ipython3",
   "version": "3.8.10"
  },
  "source_map": [
   12,
   19,
   35
  ]
 },
 "nbformat": 4,
 "nbformat_minor": 5
}