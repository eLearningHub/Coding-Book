{
 "cells": [
  {
   "cell_type": "markdown",
   "id": "c787c190",
   "metadata": {},
   "source": [
    "(valid-word)=\n",
    "# [408. Valid Word Abbreviation](https://leetcode.com/problems/valid-word-abbreviation/)\n",
    "\n",
    "Given a non-empty string `s` and an abbreviation `abbr`, return whether the string matches with the given abbreviation.\n",
    "\n",
    "A string such as \"word\" contains only the following valid abbreviations:\n",
    "\n",
    "```python\n",
    "[\"word\", \"1ord\", \"w1rd\", \"wo1d\", \"wor1\", \"2rd\", \"w2d\", \"wo2\", \"1o1d\", \"1or1\", \"w1r1\", \"1o2\", \"2r1\", \"3d\", \"w3\", \"4\"]\n",
    "```\n",
    "\n",
    "Notice that only the above abbreviations are valid abbreviations of the string \"word\". Any other string is not a valid abbreviation of \"word\".\n",
    "\n",
    "Note:\n",
    "Assume `s` contains only lowercase letters and `abbr` contains only lowercase letters and digits.\n",
    "\n",
    "## Solutions"
   ]
  },
  {
   "cell_type": "code",
   "execution_count": 1,
   "id": "267dc051",
   "metadata": {},
   "outputs": [],
   "source": [
    "class Solution1:\n",
    "    def validWordAbbreviation(self, word: str, abbr: str) -> bool:\n",
    "        is_abbr = True\n",
    "        abbr_len = len(abbr)\n",
    "        i = 0\n",
    "        i_s = 0\n",
    "        while i < abbr_len:\n",
    "            if abbr[i].isnumeric():\n",
    "              j = i\n",
    "              while j < abbr_len:\n",
    "                if abbr[j].isnumeric():\n",
    "                  j += 1\n",
    "                else:\n",
    "                  break\n",
    "              i_s += int(abbr[i:j])\n",
    "              i = j\n",
    "            else:\n",
    "              if s[i_s] != abbr[i]:\n",
    "                is_abbr = False\n",
    "                break\n",
    "              i += 1\n",
    "              i_s += 1\n",
    "        return is_abbr"
   ]
  },
  {
   "cell_type": "markdown",
   "id": "96f10c43",
   "metadata": {},
   "source": [
    "## Examples"
   ]
  },
  {
   "cell_type": "code",
   "execution_count": 2,
   "id": "b8296cb5",
   "metadata": {
    "tags": [
     "hide-input"
    ]
   },
   "outputs": [],
   "source": [
    "%load_ext line_profiler\n",
    "%load_ext memory_profiler\n",
    "import cProfile\n",
    "Sol1 = Solution1()"
   ]
  },
  {
   "cell_type": "markdown",
   "id": "ff2206cc",
   "metadata": {},
   "source": [
    "### Example 1"
   ]
  },
  {
   "cell_type": "code",
   "execution_count": 3,
   "id": "7b7c6f63",
   "metadata": {},
   "outputs": [
    {
     "name": "stdout",
     "output_type": "stream",
     "text": [
      "True\n"
     ]
    }
   ],
   "source": [
    "s = \"internationalization\"\n",
    "abbr = \"i12iz4n\"\n",
    "ans = True\n",
    "print(Sol1.validWordAbbreviation(s, abbr))"
   ]
  },
  {
   "cell_type": "markdown",
   "id": "359fc621",
   "metadata": {},
   "source": [
    "### Example 2"
   ]
  },
  {
   "cell_type": "code",
   "execution_count": 4,
   "id": "f1335ed3",
   "metadata": {},
   "outputs": [
    {
     "name": "stdout",
     "output_type": "stream",
     "text": [
      "False\n"
     ]
    }
   ],
   "source": [
    "s = \"apple\"\n",
    "abbr = \"a2e\"\n",
    "ans = False\n",
    "print(Sol1.validWordAbbreviation(s, abbr))"
   ]
  }
 ],
 "metadata": {
  "jupytext": {
   "text_representation": {
    "extension": ".md",
    "format_name": "myst",
    "format_version": 0.13,
    "jupytext_version": "1.14.1"
   }
  },
  "kernelspec": {
   "display_name": "Python 3.10",
   "language": "python",
   "name": "python3"
  },
  "language_info": {
   "codemirror_mode": {
    "name": "ipython",
    "version": 3
   },
   "file_extension": ".py",
   "mimetype": "text/x-python",
   "name": "python",
   "nbconvert_exporter": "python",
   "pygments_lexer": "ipython3",
   "version": "3.8.10"
  },
  "source_map": [
   12,
   32,
   56,
   60,
   66,
   70,
   75,
   79
  ]
 },
 "nbformat": 4,
 "nbformat_minor": 5
}