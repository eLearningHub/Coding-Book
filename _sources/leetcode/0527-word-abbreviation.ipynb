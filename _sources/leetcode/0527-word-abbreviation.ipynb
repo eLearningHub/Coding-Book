{
 "cells": [
  {
   "cell_type": "markdown",
   "id": "d7e0ce45",
   "metadata": {},
   "source": [
    "(word-abbr)=\n",
    "# [527. Word Abbreviation](https://leetcode.com/problems/word-abbreviation/)\n",
    "\n",
    "Given an array of n distinct non-empty strings, you need to generate minimal possible abbreviations for every word following rules below.\n",
    "\n",
    "    Begin with the first character and then the number of characters abbreviated, which followed by the last character.\n",
    "    If there are any conflict, that is more than one words share the same abbreviation, a longer prefix is used instead of only the first character until making the map from word to abbreviation become unique. In other words, a final abbreviation cannot map to more than one original words.\n",
    "    If the abbreviation doesn't make the word shorter, then keep it as original.\n",
    "\n",
    "Example:\n",
    "\n",
    "Input: [\"like\", \"god\", \"internal\", \"me\", \"internet\", \"interval\", \"intension\", \"face\", \"intrusion\"]\n",
    "Output: [\"l2e\",\"god\",\"internal\",\"me\",\"i6t\",\"interval\",\"inte4n\",\"f2e\",\"intr4n\"]\n",
    "\n",
    "Note:\n",
    "\n",
    "- Both n and the length of each word will not exceed 400.\n",
    "- The length of each word is greater than 1.\n",
    "- The words consist of lowercase English letters only.\n",
    "- The return answers should be in the same order as the original array.\n",
    "\n",
    "## Solutions"
   ]
  },
  {
   "cell_type": "code",
   "execution_count": 1,
   "id": "838e3eef",
   "metadata": {},
   "outputs": [],
   "source": [
    "from typing import List\n",
    "class Solution1:\n",
    "    def shorten(self, word: str, i: int) -> str:\n",
    "      n = len(word)\n",
    "      if n-i > 3:\n",
    "        return word[0:i]+str(n-i-1)+word[-1]\n",
    "      else:\n",
    "        return word\n",
    "    def wordsAbbreviation(self, dict: List[str]) -> List[str]:\n",
    "      abbrs = {}\n",
    "      for w in dict:\n",
    "        lw = len(w)\n",
    "        if lw>3:\n",
    "          w_abbr = w[0]+str(lw-2)+w[-1]\n",
    "          abbrs[w_abbr] = abbrs.get(w_abbr,[])\n",
    "          abbrs[w_abbr].append(w)\n",
    "        else:\n",
    "          abbrs[w] = [w]\n",
    "\n",
    "      abbr_i = {}\n",
    "      for key in abbrs.keys():\n",
    "        if len(abbrs[key]) > 1:\n",
    "          for i in range(len(abbrs[key][0])):\n",
    "            abbrs_new = {self.shorten(_, i) for _ in abbrs[key]}\n",
    "            if len(abbrs_new) == len(abbrs[key]):\n",
    "              abbr_i[key]=i\n",
    "              break\n",
    "\n",
    "      for key in abbr_i.keys():\n",
    "        for w in abbrs[key]:\n",
    "          w_abbr = self.shorten(w,abbr_i[key])\n",
    "          abbrs[w_abbr] = [w]\n",
    "        abbrs.pop(key)\n",
    "\n",
    "      abbr =  {v[0]: k for k, v in abbrs.items()}\n",
    "      return [abbr[_] for _ in dict]"
   ]
  },
  {
   "cell_type": "markdown",
   "id": "0e38560c",
   "metadata": {},
   "source": [
    "## Examples"
   ]
  },
  {
   "cell_type": "code",
   "execution_count": 2,
   "id": "c3ee8c39",
   "metadata": {
    "tags": [
     "hide-input"
    ]
   },
   "outputs": [],
   "source": [
    "%load_ext line_profiler\n",
    "%load_ext memory_profiler\n",
    "import cProfile\n",
    "Sol1 = Solution1()"
   ]
  },
  {
   "cell_type": "markdown",
   "id": "64333b0f",
   "metadata": {},
   "source": [
    "### Example 1"
   ]
  },
  {
   "cell_type": "code",
   "execution_count": 3,
   "id": "fa661da3",
   "metadata": {},
   "outputs": [
    {
     "name": "stdout",
     "output_type": "stream",
     "text": [
      "['l2e', 'god', 'internal', 'me', 'i6t', 'interval', 'inte4n', 'f2e', 'intr4n']\n"
     ]
    }
   ],
   "source": [
    "Input = [\"like\", \"god\", \"internal\", \"me\", \"internet\", \"interval\", \"intension\",\"face\",\"intrusion\"]\n",
    "\n",
    "Output= [\"l2e\",\"god\",\"internal\",\"me\",\"i6t\",\"interval\",\"inte4n\",\"f2e\",\"intr4n\"]\n",
    "\n",
    "print(Sol1.wordsAbbreviation(Input))"
   ]
  }
 ],
 "metadata": {
  "jupytext": {
   "text_representation": {
    "extension": ".md",
    "format_name": "myst",
    "format_version": 0.13,
    "jupytext_version": "1.14.1"
   }
  },
  "kernelspec": {
   "display_name": "Python 3.10",
   "language": "python",
   "name": "python3"
  },
  "language_info": {
   "codemirror_mode": {
    "name": "ipython",
    "version": 3
   },
   "file_extension": ".py",
   "mimetype": "text/x-python",
   "name": "python",
   "nbconvert_exporter": "python",
   "pygments_lexer": "ipython3",
   "version": "3.8.10"
  },
  "source_map": [
   12,
   37,
   74,
   78,
   84,
   88
  ]
 },
 "nbformat": 4,
 "nbformat_minor": 5
}