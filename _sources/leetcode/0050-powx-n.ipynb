{
 "cells": [
  {
   "cell_type": "markdown",
   "id": "c7504c68",
   "metadata": {},
   "source": [
    "(powx-n)=\n",
    "# [50. Pow(x, n)](https://leetcode.com/problems/powx-n/)\n",
    "\n",
    "Implement `pow(x, n)`, which calculates `x` raised to the power `n` (i.e., `x^n`).\n",
    "\n",
    "Constraints:\n",
    "\n",
    "- `-100.0 < x < 100.0`\n",
    "- `-2^31 <= n <= 2^31-1`\n",
    "- `-10^4 <= x^n <= 10^4`\n",
    "\n",
    "## Solution"
   ]
  },
  {
   "cell_type": "code",
   "execution_count": 1,
   "id": "9f2ba783",
   "metadata": {},
   "outputs": [],
   "source": [
    "class Solution:\n",
    "    def myPow(self, x: float, n: int) -> float:\n",
    "        if n == 0:\n",
    "          return 1\n",
    "        if x == 0:\n",
    "          return 0\n",
    "        if n < 0:\n",
    "            x = 1/x\n",
    "            n = abs(n)\n",
    "        p = self.myPow(x*x, n // 2)\n",
    "        return p if (n % 2)==0 else x*p\n",
    "Sol = Solution()"
   ]
  },
  {
   "cell_type": "markdown",
   "id": "e2904418",
   "metadata": {},
   "source": [
    "## Examples\n",
    "\n",
    "### Example 1"
   ]
  },
  {
   "cell_type": "code",
   "execution_count": 2,
   "id": "47897738",
   "metadata": {},
   "outputs": [
    {
     "name": "stdout",
     "output_type": "stream",
     "text": [
      "1024.0\n",
      "error= 0.0\n"
     ]
    }
   ],
   "source": [
    "x = 2.00000\n",
    "n = 10\n",
    "ans = 1024.00000\n",
    "y = Sol.myPow(x, n)\n",
    "print(y)\n",
    "print(\"error=\",y-ans)"
   ]
  },
  {
   "cell_type": "markdown",
   "id": "3dfcb27e",
   "metadata": {},
   "source": [
    "### Example 2"
   ]
  },
  {
   "cell_type": "code",
   "execution_count": 3,
   "id": "e80ab913",
   "metadata": {},
   "outputs": [
    {
     "name": "stdout",
     "output_type": "stream",
     "text": [
      "9.261000000000001\n",
      "error= 1.7763568394002505e-15\n"
     ]
    }
   ],
   "source": [
    "x = 2.10000\n",
    "n = 3\n",
    "ans = 9.26100\n",
    "y = Sol.myPow(x, n)\n",
    "print(y)\n",
    "print(\"error=\",y-ans)"
   ]
  },
  {
   "cell_type": "markdown",
   "id": "6a105967",
   "metadata": {},
   "source": [
    "### Example 3"
   ]
  },
  {
   "cell_type": "code",
   "execution_count": 4,
   "id": "0097850c",
   "metadata": {},
   "outputs": [
    {
     "name": "stdout",
     "output_type": "stream",
     "text": [
      "0.25\n",
      "error= 0.0\n"
     ]
    }
   ],
   "source": [
    "x = 2.0000\n",
    "n = -2\n",
    "ans = 0.25000\n",
    "y = Sol.myPow(x, n)\n",
    "print(y)\n",
    "print(\"error=\",y-ans)"
   ]
  },
  {
   "cell_type": "markdown",
   "id": "e898c47d",
   "metadata": {},
   "source": [
    "### Example 4"
   ]
  },
  {
   "cell_type": "code",
   "execution_count": 5,
   "id": "20a8120d",
   "metadata": {},
   "outputs": [
    {
     "name": "stdout",
     "output_type": "stream",
     "text": [
      "1.0000000000000006e+308\n",
      "error= 5.987520928604159e+292\n"
     ]
    }
   ],
   "source": [
    "x = 10.0\n",
    "n = 308\n",
    "ans = 1e308\n",
    "y = Sol.myPow(x, n)\n",
    "print(y)\n",
    "print(\"error=\",y-ans)"
   ]
  },
  {
   "cell_type": "markdown",
   "id": "e3a26eb1",
   "metadata": {},
   "source": [
    "### Example 5"
   ]
  },
  {
   "cell_type": "code",
   "execution_count": 6,
   "id": "92577c54",
   "metadata": {},
   "outputs": [
    {
     "name": "stdout",
     "output_type": "stream",
     "text": [
      "inf\n",
      "error= nan\n"
     ]
    }
   ],
   "source": [
    "x = 10.0\n",
    "n = 309\n",
    "ans = 1e309\n",
    "y = Sol.myPow(x, n)\n",
    "print(y)\n",
    "print(\"error=\",y-ans)"
   ]
  },
  {
   "cell_type": "markdown",
   "id": "21cfb4f9",
   "metadata": {},
   "source": [
    "## Notes\n",
    "### Note 1\n",
    "\n",
    "Maximum integer for 64 bit Python:"
   ]
  },
  {
   "cell_type": "code",
   "execution_count": 7,
   "id": "03f0e695",
   "metadata": {},
   "outputs": [
    {
     "data": {
      "text/plain": [
       "9223372036854775807"
      ]
     },
     "execution_count": 7,
     "metadata": {},
     "output_type": "execute_result"
    }
   ],
   "source": [
    "import sys\n",
    "sys.maxsize"
   ]
  },
  {
   "cell_type": "code",
   "execution_count": 8,
   "id": "a1128f4e",
   "metadata": {},
   "outputs": [
    {
     "name": "stdout",
     "output_type": "stream",
     "text": [
      "9223372036854775807\n"
     ]
    }
   ],
   "source": [
    "print(2**63-1)"
   ]
  },
  {
   "cell_type": "markdown",
   "id": "ca04bbd2",
   "metadata": {},
   "source": [
    "### Note 2\n",
    "\n",
    "Maximum float for 64 bit Python:"
   ]
  },
  {
   "cell_type": "code",
   "execution_count": 9,
   "id": "feebf154",
   "metadata": {},
   "outputs": [
    {
     "data": {
      "text/plain": [
       "1.7976931348623157e+308"
      ]
     },
     "execution_count": 9,
     "metadata": {},
     "output_type": "execute_result"
    }
   ],
   "source": [
    "sys.float_info.max"
   ]
  },
  {
   "cell_type": "markdown",
   "id": "992e5685",
   "metadata": {},
   "source": [
    "### Note 3\n",
    "\n",
    "Did you know that `pow(0,0)` returns `1`? \n",
    "\n",
    "- You get a lot of simplification by allowing 00=1 and not a lot is lost.\n",
    "- Floating point arithmetic is already mathematically incorrect in many ways that are far scarier than $0^0=1$.\n",
    "\n",
    "Ref: [Why does Python return 1 for pow(0,0) which is mathematically wrong?](https://www.quora.com/Why-does-Python-return-1-for-pow-0-0-which-is-mathematically-wrong)\n",
    "\n",
    "## References\n",
    "\n",
    "### NeetCode"
   ]
  },
  {
   "cell_type": "code",
   "execution_count": 10,
   "id": "134a96e6",
   "metadata": {
    "tags": [
     "hide-input"
    ]
   },
   "outputs": [
    {
     "data": {
      "image/jpeg": "[encoded data removed]",
      "text/html": [
       "\n",
       "<iframe\n",
       "    width=\"400\"\n",
       "    height=\"300\"\n",
       "    src=\"https://www.youtube.com/embed/g9YQyYi4IQQ\"\n",
       "    frameborder=\"0\"\n",
       "    allowfullscreen\n",
       "\n",
       "></iframe>\n"
      ],
      "text/plain": [
       "<IPython.lib.display.YouTubeVideo at 0x7f3c78352580>"
      ]
     },
     "execution_count": 10,
     "metadata": {
      "filenames": {
       "image/jpeg": "/home/runner/work/coding-book/coding-book/_build/jupyter_execute/leetcode/0050-powx-n_18_0.jpg"
      }
     },
     "output_type": "execute_result"
    }
   ],
   "source": [
    "from IPython.display import YouTubeVideo\n",
    "YouTubeVideo('g9YQyYi4IQQ')"
   ]
  }
 ],
 "metadata": {
  "jupytext": {
   "text_representation": {
    "extension": ".md",
    "format_name": "myst",
    "format_version": 0.13,
    "jupytext_version": "1.14.1"
   }
  },
  "kernelspec": {
   "display_name": "Python 3.10",
   "language": "python",
   "name": "python3"
  },
  "language_info": {
   "codemirror_mode": {
    "name": "ipython",
    "version": 3
   },
   "file_extension": ".py",
   "mimetype": "text/x-python",
   "name": "python",
   "nbconvert_exporter": "python",
   "pygments_lexer": "ipython3",
   "version": "3.8.10"
  },
  "source_map": [
   12,
   27,
   40,
   46,
   53,
   57,
   64,
   68,
   75,
   79,
   86,
   90,
   97,
   104,
   109,
   111,
   117,
   119,
   134
  ]
 },
 "nbformat": 4,
 "nbformat_minor": 5
}