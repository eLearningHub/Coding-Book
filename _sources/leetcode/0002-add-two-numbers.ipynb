{
 "cells": [
  {
   "cell_type": "markdown",
   "id": "e9b89db2",
   "metadata": {},
   "source": [
    "(add-two)=\n",
    "# [2. Add Two Numbers](https://leetcode.com/problems/add-two-numbers/)\n",
    "\n",
    "You are given two non-empty linked lists representing two non-negative integers. The digits are stored in reverse order, and each of their nodes contains a single digit. Add the two numbers and return the sum as a linked list.\n",
    "\n",
    "You may assume the two numbers do not contain any leading zero, except the number 0 itself.\n",
    "\n",
    "## Solution"
   ]
  },
  {
   "cell_type": "code",
   "execution_count": 1,
   "id": "ce2dc0f3",
   "metadata": {},
   "outputs": [],
   "source": [
    "from typing import Optional\n",
    "# Definition for singly-linked list.\n",
    "class ListNode:\n",
    "    def __init__(self, val=0, next=None):\n",
    "        self.val = val\n",
    "        self.next = next\n",
    "class Solution:\n",
    "  def addTwoNumbers(self, l1: Optional[ListNode], l2: Optional[ListNode], carry: int = 0) -> Optional[ListNode]:\n",
    "    \n",
    "    if l1 == None:\n",
    "      l1 = ListNode()\n",
    "    \n",
    "    if l2 == None:\n",
    "      l2 = ListNode()\n",
    "\n",
    "    x = l1.val + l2.val + carry\n",
    "    if x < 10:\n",
    "      if l1.next == None and l2.next == None:\n",
    "        return ListNode(x, None)\n",
    "      else:\n",
    "        return ListNode(x, self.addTwoNumbers(l1.next, l2.next, 0))\n",
    "    else:\n",
    "      if l1.next == None and l2.next == None:\n",
    "        return ListNode(x-10, ListNode(1, None))\n",
    "      else:\n",
    "        return ListNode(x-10, self.addTwoNumbers(l1.next, l2.next, 1))\n",
    "\n",
    "  def listToListNode(self, l:list) -> ListNode:\n",
    "    n = len(l)\n",
    "    listN = ListNode(l[-1])\n",
    "    for i in range(n-1):\n",
    "      listN = ListNode(l[-2-i],listN)\n",
    "    return listN\n",
    "  def ListNodeToList(self, ln: Optional[ListNode], l: list = []) -> list:\n",
    "    m = l + [ln.val]\n",
    "    if ln.next == None:\n",
    "      return m\n",
    "    else:\n",
    "      return self.ListNodeToList(ln.next, m)\n",
    "\n",
    "Sol = Solution()"
   ]
  },
  {
   "cell_type": "markdown",
   "id": "bb95129f",
   "metadata": {},
   "source": [
    "Runtime: 73 ms, faster than 90.11% of Python3 online submissions for Add Two Numbers.\n",
    "Memory Usage: 13.9 MB, less than 86.19% of Python3 online submissions for Add Two Numbers.\n",
    "\n",
    "## Examples\n",
    "\n",
    "### Example 1"
   ]
  },
  {
   "cell_type": "code",
   "execution_count": 2,
   "id": "1ef3f6fa",
   "metadata": {},
   "outputs": [
    {
     "name": "stdout",
     "output_type": "stream",
     "text": [
      "[7, 0, 8]\n"
     ]
    }
   ],
   "source": [
    "l1 = Sol.listToListNode([2,4,3])\n",
    "l2 = Sol.listToListNode([5,6,4])\n",
    "l = Sol.addTwoNumbers(l1, l2)\n",
    "print(Sol.ListNodeToList(l))"
   ]
  }
 ],
 "metadata": {
  "jupytext": {
   "text_representation": {
    "extension": ".md",
    "format_name": "myst",
    "format_version": 0.13,
    "jupytext_version": "1.14.1"
   }
  },
  "kernelspec": {
   "display_name": "Python 3.10",
   "language": "python",
   "name": "python3"
  },
  "language_info": {
   "codemirror_mode": {
    "name": "ipython",
    "version": 3
   },
   "file_extension": ".py",
   "mimetype": "text/x-python",
   "name": "python",
   "nbconvert_exporter": "python",
   "pygments_lexer": "ipython3",
   "version": "3.8.10"
  },
  "source_map": [
   12,
   23,
   65,
   74
  ]
 },
 "nbformat": 4,
 "nbformat_minor": 5
}