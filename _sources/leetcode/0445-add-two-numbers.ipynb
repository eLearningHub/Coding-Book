{
 "cells": [
  {
   "cell_type": "markdown",
   "id": "360acaed",
   "metadata": {},
   "source": [
    "(add-two-ii)=\n",
    "# [445. Add Two Numbers II](https://leetcode.com/problems/add-two-numbers-ii/)\n",
    "\n",
    "You are given two non-empty linked lists representing two non-negative integers. The most significant digit comes first and each of their nodes contains a single digit. Add the two numbers and return the sum as a linked list.\n",
    "\n",
    "You may assume the two numbers do not contain any leading zero, except the number 0 itself.\n",
    "\n",
    "## Solution"
   ]
  },
  {
   "cell_type": "code",
   "execution_count": 1,
   "id": "e57a0773",
   "metadata": {},
   "outputs": [],
   "source": [
    "from typing import Optional\n",
    "# Definition for singly-linked list.\n",
    "class ListNode:\n",
    "    def __init__(self, val=0, next=None):\n",
    "        self.val = val\n",
    "        self.next = next\n",
    "# Definition for singly-linked list.\n",
    "# class ListNode:\n",
    "#     def __init__(self, val=0, next=None):\n",
    "#         self.val = val\n",
    "#         self.next = next\n",
    "class Solution:\n",
    "  def addTwoNumbers(self, l1: Optional[ListNode], l2: Optional[ListNode]) -> Optional[ListNode]:\n",
    "    lst1 = self.ListNodeToList(l1)\n",
    "    lst2 = self.ListNodeToList(l2)\n",
    "    \n",
    "    ln1 = len(lst1)\n",
    "    ln2 = len(lst2)\n",
    "    \n",
    "    if ln1 > ln2:\n",
    "      lst2 = [0 for _ in range(ln1-ln2)]+lst2\n",
    "      ln = ln1\n",
    "    else:\n",
    "      lst1 = [0 for _ in range(ln2-ln1)]+lst1\n",
    "      ln = ln2\n",
    "    \n",
    "    carry = 0\n",
    "    lst = []\n",
    "    for i in range(ln):\n",
    "      x = lst1[-1-i]+lst2[-1-i]+carry\n",
    "      if x >= 10:\n",
    "        x = x-10\n",
    "        carry = 1\n",
    "      else:\n",
    "        carry = 0\n",
    "      lst.insert(0,x)\n",
    "    \n",
    "    if carry:\n",
    "      lst.insert(0,1)\n",
    "    return self.ListToListNode(lst)\n",
    "\n",
    "  def ListToListNode(self, l:list) -> ListNode:\n",
    "    n = len(l)\n",
    "    listN = ListNode(l[-1])\n",
    "    for i in range(n-1):\n",
    "      listN = ListNode(l[-2-i],listN)\n",
    "    return listN\n",
    "\n",
    "  def ListNodeToList(self, ln: Optional[ListNode], l: list = []) -> list:\n",
    "    m = l + [ln.val]\n",
    "    if ln.next == None:\n",
    "      return m\n",
    "    else:\n",
    "      return self.ListNodeToList(ln.next, m)\n",
    "\n",
    "Sol = Solution()"
   ]
  },
  {
   "cell_type": "markdown",
   "id": "cee9d341",
   "metadata": {},
   "source": [
    "Runtime: 171 ms, faster than 6.57% of Python3 online submissions for Add Two Numbers II.\n",
    "Memory Usage: 13.9 MB, less than 45.47% of Python3 online submissions for Add Two Numbers II.\n",
    "\n",
    "## Examples\n",
    "\n",
    "### Example 1"
   ]
  },
  {
   "cell_type": "code",
   "execution_count": 2,
   "id": "c0929a11",
   "metadata": {},
   "outputs": [
    {
     "ename": "AttributeError",
     "evalue": "'Solution' object has no attribute 'listToListNode'",
     "output_type": "error",
     "traceback": [
      "\u001b[0;31m---------------------------------------------------------------------------\u001b[0m",
      "\u001b[0;31mAttributeError\u001b[0m                            Traceback (most recent call last)",
      "Cell \u001b[0;32mIn [2], line 1\u001b[0m\n\u001b[0;32m----> 1\u001b[0m l1 \u001b[38;5;241m=\u001b[39m \u001b[43mSol\u001b[49m\u001b[38;5;241;43m.\u001b[39;49m\u001b[43mlistToListNode\u001b[49m([\u001b[38;5;241m7\u001b[39m,\u001b[38;5;241m2\u001b[39m,\u001b[38;5;241m4\u001b[39m,\u001b[38;5;241m3\u001b[39m])\n\u001b[1;32m      2\u001b[0m l2 \u001b[38;5;241m=\u001b[39m Sol\u001b[38;5;241m.\u001b[39mlistToListNode([\u001b[38;5;241m5\u001b[39m,\u001b[38;5;241m6\u001b[39m,\u001b[38;5;241m4\u001b[39m])\n\u001b[1;32m      3\u001b[0m l \u001b[38;5;241m=\u001b[39m Sol\u001b[38;5;241m.\u001b[39maddTwoNumbers(l1, l2)\n",
      "\u001b[0;31mAttributeError\u001b[0m: 'Solution' object has no attribute 'listToListNode'"
     ]
    }
   ],
   "source": [
    "l1 = Sol.listToListNode([7,2,4,3])\n",
    "l2 = Sol.listToListNode([5,6,4])\n",
    "l = Sol.addTwoNumbers(l1, l2)\n",
    "print(Sol.ListNodeToList(l))"
   ]
  },
  {
   "cell_type": "markdown",
   "id": "3705530e",
   "metadata": {},
   "source": [
    "## Example 2"
   ]
  },
  {
   "cell_type": "code",
   "execution_count": null,
   "id": "90630007",
   "metadata": {},
   "outputs": [],
   "source": [
    "l1 = Sol.listToListNode([2,4,3])\n",
    "l2 = Sol.listToListNode([5,6,4])\n",
    "l = Sol.addTwoNumbers(l1, l2)\n",
    "print(Sol.ListNodeToList(l))"
   ]
  },
  {
   "cell_type": "markdown",
   "id": "63716061",
   "metadata": {},
   "source": [
    "## Example 3"
   ]
  },
  {
   "cell_type": "code",
   "execution_count": null,
   "id": "b94acb00",
   "metadata": {},
   "outputs": [],
   "source": [
    "l1 = Sol.listToListNode([0])\n",
    "l2 = Sol.listToListNode([0])\n",
    "l = Sol.addTwoNumbers(l1, l2)\n",
    "print(Sol.ListNodeToList(l))"
   ]
  }
 ],
 "metadata": {
  "jupytext": {
   "text_representation": {
    "extension": ".md",
    "format_name": "myst",
    "format_version": 0.13,
    "jupytext_version": "1.14.1"
   }
  },
  "kernelspec": {
   "display_name": "Python 3.10",
   "language": "python",
   "name": "python3"
  },
  "language_info": {
   "codemirror_mode": {
    "name": "ipython",
    "version": 3
   },
   "file_extension": ".py",
   "mimetype": "text/x-python",
   "name": "python",
   "nbconvert_exporter": "python",
   "pygments_lexer": "ipython3",
   "version": "3.8.10"
  },
  "source_map": [
   12,
   23,
   80,
   89,
   94,
   98,
   103,
   107
  ]
 },
 "nbformat": 4,
 "nbformat_minor": 5
}