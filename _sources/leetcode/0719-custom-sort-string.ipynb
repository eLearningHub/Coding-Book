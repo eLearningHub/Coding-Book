{
 "cells": [
  {
   "cell_type": "markdown",
   "id": "efa5246a",
   "metadata": {},
   "source": [
    "(string-719)=\n",
    "# [719. Custom Sort String](https://leetcode.com/problems/custom-sort-string/)\n",
    "\n",
    "You are given two strings order and s. All the characters of order are unique and were sorted in some custom order previously.\n",
    "\n",
    "Permute the characters of s so that they match the order that order was sorted. More specifically, if a character x occurs before a character y in order, then x should occur before y in the permuted string.\n",
    "\n",
    "Return any permutation of s that satisfies this property.\n",
    "\n",
    "## Constraints\n",
    "\n",
    "- 1 <= order.length <= 26\n",
    "- 1 <= s.length <= 200\n",
    "- order and s consist of lowercase English letters.\n",
    "- All the characters of order are unique.\n",
    "\n",
    "## Solution"
   ]
  },
  {
   "cell_type": "code",
   "execution_count": 1,
   "id": "f38f6e22",
   "metadata": {},
   "outputs": [],
   "source": [
    "class Solution:\n",
    "    def customSortString(self, order: str, s: str) -> str:\n",
    "      ordered_str = ''\n",
    "      for ch in order:\n",
    "        if ch in s:\n",
    "          ordered_str = ordered_str+ch*s.count(ch)\n",
    "          s=s.replace(ch, '')\n",
    "      \n",
    "      ordered_str = ordered_str+s\n",
    "      return ordered_str\n",
    "Sol = Solution()"
   ]
  },
  {
   "cell_type": "markdown",
   "id": "d72a711f",
   "metadata": {},
   "source": [
    "## Examples\n",
    "\n",
    "### Example 1\n",
    "\n",
    "Input: order = \"cba\", s = \"abcd\"\n",
    "Output: \"cbad\"\n",
    "Explanation:\n",
    "\"a\", \"b\", \"c\" appear in order, so the order of \"a\", \"b\", \"c\" should be \"c\", \"b\", and \"a\". \n",
    "Since \"d\" does not appear in order, it can be at any position in the returned string. \"dcba\", \"cdba\", \"cbda\" are also valid outputs."
   ]
  },
  {
   "cell_type": "code",
   "execution_count": 2,
   "id": "1f550d0e",
   "metadata": {},
   "outputs": [
    {
     "data": {
      "text/plain": [
       "'cbad'"
      ]
     },
     "execution_count": 2,
     "metadata": {},
     "output_type": "execute_result"
    }
   ],
   "source": [
    "order = \"cba\"\n",
    "s = \"abcd\"\n",
    "Sol.customSortString(order, s)"
   ]
  },
  {
   "cell_type": "markdown",
   "id": "bca5e57c",
   "metadata": {},
   "source": [
    "### Example 2\n",
    "\n",
    "Input: order = \"cbafg\", s = \"abcd\"\n",
    "Output: \"cbad\""
   ]
  },
  {
   "cell_type": "code",
   "execution_count": 3,
   "id": "2d270b09",
   "metadata": {},
   "outputs": [
    {
     "data": {
      "text/plain": [
       "'cbad'"
      ]
     },
     "execution_count": 3,
     "metadata": {},
     "output_type": "execute_result"
    }
   ],
   "source": [
    "order = \"cbafg\"\n",
    "s = \"abcd\"\n",
    "Sol.customSortString(order, s)"
   ]
  },
  {
   "cell_type": "markdown",
   "id": "53b19202",
   "metadata": {},
   "source": [
    "### Example 3\n",
    "\n",
    "Input: order = \"kqep\", s = \"pekeq\"\n",
    "Output: \"kqeep\""
   ]
  },
  {
   "cell_type": "code",
   "execution_count": 4,
   "id": "cfedadeb",
   "metadata": {},
   "outputs": [
    {
     "data": {
      "text/plain": [
       "'kqeep'"
      ]
     },
     "execution_count": 4,
     "metadata": {},
     "output_type": "execute_result"
    }
   ],
   "source": [
    "order = \"kqep\"\n",
    "s = \"pekeq\"\n",
    "Sol.customSortString(order, s)"
   ]
  },
  {
   "cell_type": "markdown",
   "id": "86064c14",
   "metadata": {},
   "source": [
    "## References"
   ]
  },
  {
   "cell_type": "code",
   "execution_count": 5,
   "id": "8e3cf1f6",
   "metadata": {
    "tags": [
     "hide-input"
    ]
   },
   "outputs": [
    {
     "data": {
      "image/jpeg": "[encoded data removed]",
      "text/html": [
       "\n",
       "<iframe\n",
       "    width=\"400\"\n",
       "    height=\"300\"\n",
       "    src=\"https://www.youtube.com/embed/edluuHln06g\"\n",
       "    frameborder=\"0\"\n",
       "    allowfullscreen\n",
       "\n",
       "></iframe>\n"
      ],
      "text/plain": [
       "<IPython.lib.display.YouTubeVideo at 0x7fea45f0fa60>"
      ]
     },
     "execution_count": 5,
     "metadata": {
      "filenames": {
       "image/jpeg": "/home/runner/work/coding-book/coding-book/_build/jupyter_execute/leetcode/0719-custom-sort-string_9_0.jpg"
      }
     },
     "output_type": "execute_result"
    }
   ],
   "source": [
    "from IPython.display import YouTubeVideo\n",
    "YouTubeVideo('edluuHln06g')"
   ]
  }
 ],
 "metadata": {
  "jupytext": {
   "text_representation": {
    "extension": ".md",
    "format_name": "myst",
    "format_version": 0.13,
    "jupytext_version": "1.14.1"
   }
  },
  "kernelspec": {
   "display_name": "Python 3.10",
   "language": "python",
   "name": "python3"
  },
  "language_info": {
   "codemirror_mode": {
    "name": "ipython",
    "version": 3
   },
   "file_extension": ".py",
   "mimetype": "text/x-python",
   "name": "python",
   "nbconvert_exporter": "python",
   "pygments_lexer": "ipython3",
   "version": "3.8.10"
  },
  "source_map": [
   12,
   32,
   44,
   56,
   60,
   67,
   71,
   78,
   82,
   86
  ]
 },
 "nbformat": 4,
 "nbformat_minor": 5
}