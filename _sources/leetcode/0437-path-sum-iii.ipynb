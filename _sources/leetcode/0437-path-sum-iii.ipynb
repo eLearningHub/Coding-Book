{
 "cells": [
  {
   "cell_type": "markdown",
   "id": "0b9020ae",
   "metadata": {},
   "source": [
    "(path-sum-iii)=\n",
    "# [437. Path Sum III](https://leetcode.com/problems/path-sum-iii/)\n",
    "\n",
    "Given the root of a binary tree and an integer `targetSum`, return the number of paths where the sum of the values along the path equals `targetSum`.\n",
    "\n",
    "The path does not need to start or end at the root or a leaf, but it must go downwards (i.e., traveling only from parent nodes to child nodes).\n",
    "\n",
    "Constraints:\n",
    "\n",
    "- The number of nodes in the tree is in the range [0, 1000].\n",
    "- -109 <= `Node.val` <= 109\n",
    "- -1000 <= `targetSum` <= 1000\n",
    "\n",
    "## Solution"
   ]
  },
  {
   "cell_type": "code",
   "execution_count": 1,
   "id": "fd9fd1f2",
   "metadata": {},
   "outputs": [],
   "source": [
    "from typing import Optional\n",
    "import math\n",
    "\n",
    "# Definition for a binary tree node.\n",
    "class TreeNode:\n",
    "    def __init__(self, val=0, left=None, right=None):\n",
    "        self.val = val\n",
    "        self.left = left\n",
    "        self.right = right\n",
    "\n",
    "class Solution1:\n",
    "        \n",
    "    def treeToList(self, node: Optional[TreeNode], tree: list = [], index: int = 0):\n",
    "        if node == None:\n",
    "            return tree\n",
    "        if node.left == None and node.right == None:\n",
    "            return tree\n",
    "        if index == 0:\n",
    "           tree = [node.val]\n",
    "        if node.left != None:\n",
    "            i_left = 2*index+1\n",
    "            l_tree = len(tree)\n",
    "            if l_tree > i_left:\n",
    "                tree[i_left] = node.left.val\n",
    "            else:\n",
    "                tree = tree + [None]*(i_left-l_tree) + [node.left.val]\n",
    "            tree = self.treeToList(node.left, tree, i_left)\n",
    "            \n",
    "        if node.right != None:\n",
    "            i_right = 2*index+2\n",
    "            l_tree = len(tree)\n",
    "            if l_tree > i_right:\n",
    "                tree[i_right] = node.right.val\n",
    "            else:\n",
    "                tree = tree + [None]*(i_right-l_tree) + [node.right.val]\n",
    "            tree = self.treeToList(node.right, tree, i_right)\n",
    "        return tree\n",
    "\n",
    "    def listToTree(self, tree: list, node: Optional[TreeNode]):\n",
    "      nodes = [TreeNode(_) for _ in tree]\n",
    "      nodes[0] = node\n",
    "      tree_len = len(tree)\n",
    "      nodes[0].val = tree[0]\n",
    "      for i in range(tree_len):\n",
    "        child = 2*i+1\n",
    "        if child < tree_len:\n",
    "          nodes[i].left = nodes[child]\n",
    "\n",
    "        child = 2*i+2\n",
    "        if child < tree_len:\n",
    "          nodes[i].right = nodes[child]\n",
    "        \n",
    "    def pathOptions(self, length: int) -> list:\n",
    "        paths = [[0]]\n",
    "        for i in range(length-1):\n",
    "            new_paths = []\n",
    "            for p in paths:\n",
    "                new_paths += [p+[1]] + [p+[2]] \n",
    "            paths = new_paths\n",
    "        return paths\n",
    "        \n",
    "    def pathSum(self, root: Optional[TreeNode], targetSum: int) -> int:\n",
    "        \n",
    "        tree = [root.val]\n",
    "        tree = self.treeToList(root, tree)\n",
    "        num_rows = math.ceil(math.log(len(tree)+1, 2))\n",
    "        \n",
    "        noPathsTargetSum = 0\n",
    "        for length in range(1,num_rows+1):\n",
    "            paths = self.pathOptions(length)\n",
    "            for i in range(2**(num_rows-length)-1):\n",
    "                if tree[i] == None:\n",
    "                    break\n",
    "                for p in paths:\n",
    "                    sum_nodes = tree[i]\n",
    "                    j = i\n",
    "                    for k in p:\n",
    "                        if tree[2+j + k] == None:\n",
    "                            break\n",
    "                        \n",
    "                        sum_nodes += tree[2+j + k]\n",
    "                        j = 2+j + k\n",
    "                        if sum_nodes == targetSum:\n",
    "                            noPathsTargetSum = noPathsTargetSum + 1\n",
    "        return noPathsTargetSum"
   ]
  },
  {
   "cell_type": "markdown",
   "id": "ce1be6b9",
   "metadata": {},
   "source": [
    "## Examples"
   ]
  },
  {
   "cell_type": "code",
   "execution_count": 2,
   "id": "e44748e9",
   "metadata": {
    "tags": [
     "hide-input"
    ]
   },
   "outputs": [],
   "source": [
    "%load_ext line_profiler\n",
    "%load_ext memory_profiler\n",
    "import cProfile\n",
    "Sol1 = Solution1()"
   ]
  },
  {
   "cell_type": "markdown",
   "id": "124b2371",
   "metadata": {},
   "source": [
    "### Example 1\n",
    "\n",
    "Input:"
   ]
  },
  {
   "cell_type": "code",
   "execution_count": 3,
   "id": "fcaf4818",
   "metadata": {},
   "outputs": [
    {
     "data": {
      "text/plain": [
       "3"
      ]
     },
     "execution_count": 3,
     "metadata": {},
     "output_type": "execute_result"
    }
   ],
   "source": [
    "root = [10,5,-3,3,2,None,11,3,-2,None,1]\n",
    "targetSum = 8\n",
    "Output = 3\n",
    "Tree = TreeNode()\n",
    "Sol1.listToTree(root, Tree)\n",
    "Sol1.pathSum(Tree, targetSum)"
   ]
  },
  {
   "cell_type": "markdown",
   "id": "cafbe608",
   "metadata": {},
   "source": [
    "### Example 2\n",
    "\n",
    "Input:"
   ]
  },
  {
   "cell_type": "code",
   "execution_count": 4,
   "id": "c800abbe",
   "metadata": {},
   "outputs": [
    {
     "data": {
      "text/plain": [
       "1"
      ]
     },
     "execution_count": 4,
     "metadata": {},
     "output_type": "execute_result"
    }
   ],
   "source": [
    "root = [5, 4, 8, 11, None, 13, 4, 7, 2, None, None, 5, 1]\n",
    "targetSum = 22\n",
    "Output = 3\n",
    "Tree = TreeNode()\n",
    "Sol1.listToTree(root, Tree)\n",
    "Sol1.pathSum(Tree, targetSum)"
   ]
  }
 ],
 "metadata": {
  "jupytext": {
   "text_representation": {
    "extension": ".md",
    "format_name": "myst",
    "format_version": 0.13,
    "jupytext_version": "1.14.1"
   }
  },
  "kernelspec": {
   "display_name": "Python 3.10",
   "language": "python",
   "name": "python3"
  },
  "language_info": {
   "codemirror_mode": {
    "name": "ipython",
    "version": 3
   },
   "file_extension": ".py",
   "mimetype": "text/x-python",
   "name": "python",
   "nbconvert_exporter": "python",
   "pygments_lexer": "ipython3",
   "version": "3.8.10"
  },
  "source_map": [
   12,
   29,
   115,
   119,
   125,
   131,
   138,
   144
  ]
 },
 "nbformat": 4,
 "nbformat_minor": 5
}