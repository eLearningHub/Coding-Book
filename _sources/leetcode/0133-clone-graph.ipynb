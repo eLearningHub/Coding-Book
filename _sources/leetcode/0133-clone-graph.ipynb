{
 "cells": [
  {
   "cell_type": "markdown",
   "id": "bd6af1a6",
   "metadata": {},
   "source": [
    "(clone-graph)=\n",
    "# [133. Clone Graph](https://leetcode.com/problems/clone-graph/)\n",
    "\n",
    "Given a reference of a node in a connected undirected graph.\n",
    "\n",
    "Return a **deep copy** (clone) of the graph.\n",
    "\n",
    "Each node in the graph contains a value (`int`) and a list (`List[Node]`) of its neighbors.\n",
    "\n",
    "```python\n",
    "class Node {\n",
    "    public int val;\n",
    "    public List<Node> neighbors;\n",
    "}\n",
    "```\n",
    "\n",
    "Test case format:\n",
    "\n",
    "For simplicity, each node's value is the same as the node's index (1-indexed). For example, the first node with `val == 1`, the second node with `val == 2`, and so on. The graph is represented in the test case using an adjacency list.\n",
    "\n",
    "An adjacency list is a collection of unordered lists used to represent a finite graph. Each list describes the set of neighbors of a node in the graph.\n",
    "\n",
    "The given node will always be the first node with `val = 1`. You must return the copy of the given node as a reference to the cloned graph.\n",
    "\n",
    "## Solution"
   ]
  },
  {
   "cell_type": "code",
   "execution_count": 1,
   "id": "7989c51f",
   "metadata": {},
   "outputs": [],
   "source": [
    "class Node:\n",
    "    def __init__(self, val = 0, neighbors = None):\n",
    "        self.val = val\n",
    "        self.neighbors = neighbors if neighbors is not None else []\n",
    "\n",
    "class Solution:\n",
    "    def addNeighbor(self, node: 'Node', adj: 'dict'):\n",
    "        new_node = adj.get(node.val,0)\n",
    "        if new_node == 0:\n",
    "            adj[node.val] = [_.val for _ in node.neighbors]\n",
    "        for n in node.neighbors:\n",
    "            new_node = adj.get(n.val,0)\n",
    "            if new_node == 0:\n",
    "                adj[n.val] = [_.val for _ in n.neighbors]\n",
    "                self.addNeighbor(n, adj)\n",
    "        return\n",
    "  \n",
    "    def nodeToList(self, node: 'Node'):\n",
    "        adj = {}\n",
    "        self.addNeighbor(node, adj)\n",
    "        graph_size = len(adj.keys())\n",
    "        return [adj[_+1] for _ in range(0,graph_size)]\n",
    "        \n",
    "    def cloneNode(self, node: 'Node', new_nodes: 'dict'):\n",
    "        new_node = new_nodes.get(node.val,0)\n",
    "        if new_node == 0:\n",
    "            new_nodes[node.val] = Node(node.val)\n",
    "        for n in node.neighbors:\n",
    "            new_node = new_nodes.get(n.val,0)\n",
    "            if new_node == 0:\n",
    "                new_nodes[n.val] = Node(n.val)\n",
    "                self.cloneNode(n, new_nodes)\n",
    "        new_nodes[node.val].neighbors = [new_nodes[_.val] for _ in node.neighbors]\n",
    "        return \n",
    "                \n",
    "    def cloneGraph(self, node: 'Node') -> 'Node':\n",
    "        if node == None:\n",
    "            return None\n",
    "        if node.val == 0:\n",
    "            return Node()\n",
    "        if node.neighbors == None:\n",
    "            return Node(node.val)\n",
    "\n",
    "\n",
    "        new_nodes = {}\n",
    "        new_nodes[node.val] = Node(node.val)\n",
    "        for n in node.neighbors:\n",
    "            self.cloneNode(n, new_nodes)\n",
    "        new_nodes[node.val].neighbors = [new_nodes[_.val] for _ in node.neighbors]\n",
    "        return new_nodes[node.val]"
   ]
  },
  {
   "cell_type": "markdown",
   "id": "4b7b11be",
   "metadata": {},
   "source": [
    "## Examples"
   ]
  },
  {
   "cell_type": "code",
   "execution_count": 2,
   "id": "59616e41",
   "metadata": {},
   "outputs": [],
   "source": [
    "Sol = Solution()"
   ]
  },
  {
   "cell_type": "markdown",
   "id": "f5d8f60b",
   "metadata": {},
   "source": [
    "### Example 1"
   ]
  },
  {
   "cell_type": "code",
   "execution_count": 3,
   "id": "b46cbbaf",
   "metadata": {},
   "outputs": [
    {
     "name": "stdout",
     "output_type": "stream",
     "text": [
      "[[2, 4], [1, 3], [2, 4], [1, 3]]\n"
     ]
    }
   ],
   "source": [
    "# Input\n",
    "adjList = [[2,4],[1,3],[2,4],[1,3]]\n",
    "# Output [[2,4],[1,3],[2,4],[1,3]]\n",
    "\n",
    "n1 = Node(1)\n",
    "n2 = Node(2)\n",
    "n3 = Node(3)\n",
    "n4 = Node(4,[n1,n3])\n",
    "n3.neighbors = [n2,n4]\n",
    "n2.neighbors = [n1,n3]\n",
    "n1.neighbors = [n2,n4]\n",
    "print(Sol.nodeToList(n1))"
   ]
  }
 ],
 "metadata": {
  "jupytext": {
   "text_representation": {
    "extension": ".md",
    "format_name": "myst",
    "format_version": 0.13,
    "jupytext_version": "1.14.1"
   }
  },
  "kernelspec": {
   "display_name": "Python 3.10",
   "language": "python",
   "name": "python3"
  },
  "language_info": {
   "codemirror_mode": {
    "name": "ipython",
    "version": 3
   },
   "file_extension": ".py",
   "mimetype": "text/x-python",
   "name": "python",
   "nbconvert_exporter": "python",
   "pygments_lexer": "ipython3",
   "version": "3.8.10"
  },
  "source_map": [
   12,
   40,
   91,
   95,
   97,
   101
  ]
 },
 "nbformat": 4,
 "nbformat_minor": 5
}