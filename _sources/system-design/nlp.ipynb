{
 "cells": [
  {
   "cell_type": "markdown",
   "id": "8d5dc70f",
   "metadata": {},
   "source": [
    "(nlp)=\n",
    "# Natural Language Processing\n",
    "\n",
    "## Problems\n",
    "\n",
    "### Speech generation\n",
    "\n",
    "## References\n",
    "\n",
    "- [Awesome bots](https://github.com/DopplerHQ/awesome-bots)\n",
    "- [rasa](https://github.com/RasaHQ/rasa)\n",
    "- [botpress](https://botpress.com/)\n",
    "- [Chatbot](https://chatbot.obbne.com/)"
   ]
  }
 ],
 "metadata": {
  "jupytext": {
   "text_representation": {
    "extension": ".md",
    "format_name": "myst",
    "format_version": 0.13,
    "jupytext_version": "1.14.1"
   }
  },
  "kernelspec": {
   "display_name": "Python 3.10",
   "language": "python",
   "name": "python3"
  },
  "language_info": {
   "codemirror_mode": {
    "name": "ipython",
    "version": 3
   },
   "file_extension": ".py",
   "mimetype": "text/x-python",
   "name": "python",
   "nbconvert_exporter": "python",
   "pygments_lexer": "ipython3",
   "version": "3.8.10"
  },
  "source_map": [
   12
  ]
 },
 "nbformat": 4,
 "nbformat_minor": 5
}