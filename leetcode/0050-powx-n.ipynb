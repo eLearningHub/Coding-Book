{
 "cells": [
  {
   "cell_type": "markdown",
   "metadata": {},
   "source": [
    "(powx-n)=\n",
    "# [50. Pow(x, n)](https://leetcode.com/problems/powx-n/)\n",
    "\n",
    "Implement `pow(x, n)`, which calculates `x` raised to the power `n` (i.e., `x^n`).\n",
    "\n",
    "Constraints:\n",
    "\n",
    "- `-100.0 < x < 100.0`\n",
    "- `-2^31 <= n <= 2^31-1`\n",
    "- `-10^4 <= x^n <= 10^4`"
   ]
  },
  {
   "cell_type": "code",
   "execution_count": 7,
   "metadata": {},
   "outputs": [],
   "source": [
    "def Pow(x: float, n: int) -> float:\n",
    "    def helper(x, n):\n",
    "        if x == 0:\n",
    "            return 0\n",
    "        if n == 0:\n",
    "            return 1\n",
    "\n",
    "        res = helper(x * x, n // 2)\n",
    "        return x * res if n % 2 else res\n",
    "\n",
    "    res = helper(x, abs(n))\n",
    "    return res if n >= 0 else 1 / res"
   ]
  },
  {
   "cell_type": "markdown",
   "metadata": {},
   "source": [
    "## Testing\n",
    "\n",
    "### Example 1"
   ]
  },
  {
   "cell_type": "code",
   "execution_count": 8,
   "metadata": {},
   "outputs": [
    {
     "name": "stdout",
     "output_type": "stream",
     "text": [
      "1024.0\n"
     ]
    }
   ],
   "source": [
    "x == 2.00000\n",
    "n == 10\n",
    "ans == 1024.00000\n",
    "print(Pow(x, n))"
   ]
  },
  {
   "cell_type": "markdown",
   "metadata": {},
   "source": [
    "### Example 2"
   ]
  },
  {
   "cell_type": "code",
   "execution_count": 9,
   "metadata": {},
   "outputs": [
    {
     "name": "stdout",
     "output_type": "stream",
     "text": [
      "9.261000000000001\n"
     ]
    }
   ],
   "source": [
    "x = 2.10000\n",
    "n = 3\n",
    "ans = 9.26100\n",
    "print(Pow(x, n))"
   ]
  },
  {
   "cell_type": "markdown",
   "metadata": {},
   "source": [
    "### Example 3"
   ]
  },
  {
   "cell_type": "code",
   "execution_count": 10,
   "metadata": {},
   "outputs": [
    {
     "name": "stdout",
     "output_type": "stream",
     "text": [
      "0.25\n"
     ]
    }
   ],
   "source": [
    "x = 2.0000\n",
    "n = -2\n",
    "ans = 0.25000\n",
    "print(Pow(x, n))"
   ]
  }
 ],
 "metadata": {
  "kernelspec": {
   "display_name": "Python 3.10.6 ('leetcode-book')",
   "language": "python",
   "name": "python3"
  },
  "language_info": {
   "codemirror_mode": {
    "name": "ipython",
    "version": 3
   },
   "file_extension": ".py",
   "mimetype": "text/x-python",
   "name": "python",
   "nbconvert_exporter": "python",
   "pygments_lexer": "ipython3",
   "version": "3.10.6"
  },
  "orig_nbformat": 4,
  "vscode": {
   "interpreter": {
    "hash": "2d7db827f9071eb9ec3609cb6708c85d57d03450be83babb6e97a6665e535721"
   }
  }
 },
 "nbformat": 4,
 "nbformat_minor": 2
}
